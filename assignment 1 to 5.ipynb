{
 "cells": [
  {
   "cell_type": "markdown",
   "id": "5298ff57",
   "metadata": {},
   "source": [
    "# class 1"
   ]
  },
  {
   "cell_type": "code",
   "execution_count": 3,
   "id": "58767c1c",
   "metadata": {},
   "outputs": [
    {
     "name": "stdout",
     "output_type": "stream",
     "text": [
      "Laiba Arshad\n"
     ]
    }
   ],
   "source": [
    "print(\"Laiba Arshad\");"
   ]
  },
  {
   "cell_type": "markdown",
   "id": "6ee9d3d7",
   "metadata": {},
   "source": [
    "# class 2"
   ]
  },
  {
   "cell_type": "code",
   "execution_count": 2,
   "id": "336ae7eb",
   "metadata": {},
   "outputs": [
    {
     "name": "stdout",
     "output_type": "stream",
     "text": [
      "your grade is A+\n"
     ]
    }
   ],
   "source": [
    "physics=90;\n",
    "maths=89;\n",
    "islamiat=78;\n",
    "total=physics+maths+islamiat;\n",
    "average=total/3;\n",
    "if average >=90 and average <=100:\n",
    "    prinbt(\"your grade is A+1\");\n",
    "elif average >=80 and average <=90:\n",
    "    print(\"your grade is A+\");\n",
    "elif average >=70 and average <=80:\n",
    "    print(\"your grade is A\");\n",
    "elif average >=60 and average <=70:\n",
    "    print(\"your grade is B\");\n",
    "elif average >=50 and average <=60:\n",
    "    print(\"your grade is C\");\n",
    "elif average >=40 and average <=50:\n",
    "    print(\"your grade is D\");\n",
    "elif average >=33 and average <=40:\n",
    "    print(\"your grade is E\");\n",
    "elif average <=32:\n",
    "    print(\"fail\");\n",
    "else:\n",
    "    print(\"invalid marks\");"
   ]
  },
  {
   "cell_type": "markdown",
   "id": "9e5a40db",
   "metadata": {},
   "source": [
    "# class 3"
   ]
  },
  {
   "cell_type": "code",
   "execution_count": 4,
   "id": "39172d0d",
   "metadata": {},
   "outputs": [
    {
     "name": "stdout",
     "output_type": "stream",
     "text": [
      "Twinkle,twinkle,little star,\n",
      "             How I wonder what you are!\n",
      "                      Up above the world so high,\n",
      "                      Like a diamond in the sky.\n",
      "     Twinkle,twinkle,little star,\n",
      "             How I wonder what you are\n"
     ]
    }
   ],
   "source": [
    "m='''Twinkle,twinkle,little star,\n",
    "             How I wonder what you are!\n",
    "                      Up above the world so high,\n",
    "                      Like a diamond in the sky.\n",
    "     Twinkle,twinkle,little star,\n",
    "             How I wonder what you are'''\n",
    "print(m);"
   ]
  },
  {
   "cell_type": "code",
   "execution_count": 5,
   "id": "eb322075",
   "metadata": {},
   "outputs": [
    {
     "name": "stdout",
     "output_type": "stream",
     "text": [
      "python version\n",
      "3.8.8 (default, Apr 13 2021, 15:08:03) [MSC v.1916 64 bit (AMD64)]\n",
      "python information\n",
      "sys.version_info(major=3, minor=8, micro=8, releaselevel='final', serial=0)\n"
     ]
    }
   ],
   "source": [
    "import sys;\n",
    "print(\"python version\");\n",
    "print(sys.version);\n",
    "print(\"python information\");\n",
    "print(sys.version_info);"
   ]
  },
  {
   "cell_type": "code",
   "execution_count": 6,
   "id": "6efb1358",
   "metadata": {},
   "outputs": [
    {
     "name": "stdout",
     "output_type": "stream",
     "text": [
      "Current date and time is:\n",
      "21-12-02 16:12:46\n"
     ]
    }
   ],
   "source": [
    "import datetime;\n",
    "now=datetime.datetime.now()\n",
    "print(\"Current date and time is:\");\n",
    "print(now.strftime(\"%y-%m-%d %H:%M:%S\"));\n"
   ]
  },
  {
   "cell_type": "code",
   "execution_count": 7,
   "id": "dc8f4a9d",
   "metadata": {},
   "outputs": [
    {
     "name": "stdout",
     "output_type": "stream",
     "text": [
      "enter the area of a circle56\n",
      "The radius of a circle is :  9852.03456165759\n"
     ]
    }
   ],
   "source": [
    "import math;\n",
    "radius=float(input(\"enter the area of a circle\"))\n",
    "area=math.pi*radius*radius;\n",
    "print(\"The radius of a circle is : \",area);"
   ]
  },
  {
   "cell_type": "code",
   "execution_count": 8,
   "id": "6a967b65",
   "metadata": {},
   "outputs": [
    {
     "name": "stdout",
     "output_type": "stream",
     "text": [
      "enter your first number70\n",
      "enter your second number30\n",
      "The sum of two number is : 100\n"
     ]
    }
   ],
   "source": [
    "n=int(input(\"enter your first number\"));\n",
    "l=int(input(\"enter your second number\"));\n",
    "print(\"The sum of two number is :\",n+l);"
   ]
  },
  {
   "cell_type": "code",
   "execution_count": 9,
   "id": "ca59b65e",
   "metadata": {},
   "outputs": [
    {
     "name": "stdout",
     "output_type": "stream",
     "text": [
      "enter your first name/nlaiba\n",
      "enter your last name/narshad\n",
      "abial dahsra\n"
     ]
    }
   ],
   "source": [
    "fname=(input(\"enter your first name/n\"))[::-1];\n",
    "lname=(input(\"enter your last name/n\"))[::-1];\n",
    "print(fname+\" \"+lname);"
   ]
  },
  {
   "cell_type": "code",
   "execution_count": 10,
   "id": "ffaf39fc",
   "metadata": {},
   "outputs": [
    {
     "name": "stdout",
     "output_type": "stream",
     "text": [
      "enter your number30\n",
      "30 is an even number\n"
     ]
    }
   ],
   "source": [
    "num=int(input(\"enter your number\"));\n",
    "remainder=num%2;\n",
    "if remainder ==0:\n",
    "    print(num ,\"is an even number\");\n",
    "else:\n",
    "    print(num ,\"is an odd number\");"
   ]
  },
  {
   "cell_type": "code",
   "execution_count": 12,
   "id": "e1ab1023",
   "metadata": {},
   "outputs": [
    {
     "name": "stdout",
     "output_type": "stream",
     "text": [
      "your grade is C\n"
     ]
    }
   ],
   "source": [
    "urdu=90;\n",
    "english=78;\n",
    "math=65;\n",
    "pst=32;\n",
    "science=23;\n",
    "total=urdu+english+math+pst+science;\n",
    "average=total/5;\n",
    "if average >=90 and average <=100:\n",
    "    print(\"your grade is A+1\");\n",
    "elif average >=80 and average <=90:\n",
    "    print(\"yor grade is A+\");\n",
    "elif average >=70 and average <=80:\n",
    "    print(\"your grade is A\");\n",
    "elif average >=60 and average <=70:\n",
    "    print(\"your grade is B\");\n",
    "elif average >=50 and average <=60:\n",
    "    print(\"your grade is C\");\n",
    "elif average >=40 and average <=50:\n",
    "    print(\"your grade is D\");\n",
    "elif average >=33 and average <=40:\n",
    "    print(\"your grade is E\");\n",
    "elif average <=32:\n",
    "    print(\"fail\");\n",
    "else:\n",
    "    print(\"invalid marks\");\n",
    "        "
   ]
  },
  {
   "cell_type": "code",
   "execution_count": 13,
   "id": "e3f20bea",
   "metadata": {},
   "outputs": [
    {
     "name": "stdout",
     "output_type": "stream",
     "text": [
      "11\n"
     ]
    }
   ],
   "source": [
    "a = [1, 1, 2, 3, 5, 8, 13, 21, 34, 55, 89]\n",
    "print(len(a));"
   ]
  },
  {
   "cell_type": "code",
   "execution_count": 14,
   "id": "38fc48c9",
   "metadata": {},
   "outputs": [
    {
     "name": "stdout",
     "output_type": "stream",
     "text": [
      "232\n"
     ]
    }
   ],
   "source": [
    "a = [1, 1, 2, 3, 5, 8, 13, 21, 34, 55, 89]\n",
    "print(sum(a));"
   ]
  },
  {
   "cell_type": "code",
   "execution_count": 15,
   "id": "bc4650db",
   "metadata": {},
   "outputs": [
    {
     "name": "stdout",
     "output_type": "stream",
     "text": [
      "89\n"
     ]
    }
   ],
   "source": [
    "a = [1, 1, 2, 3, 5, 8, 13, 21, 34, 55, 89]\n",
    "largest_num=max(a);\n",
    "print(largest_num);"
   ]
  },
  {
   "cell_type": "code",
   "execution_count": 17,
   "id": "26864134",
   "metadata": {},
   "outputs": [
    {
     "name": "stdout",
     "output_type": "stream",
     "text": [
      "[1, 1, 2, 3]\n"
     ]
    }
   ],
   "source": [
    "a = [1, 1, 2, 3, 5, 8, 13, 21, 34, 55, 89]\n",
    "print([x for x in a if x<5]);"
   ]
  },
  {
   "cell_type": "markdown",
   "id": "8635adb7",
   "metadata": {},
   "source": [
    "# class 4"
   ]
  },
  {
   "cell_type": "code",
   "execution_count": 18,
   "id": "a39f5965",
   "metadata": {},
   "outputs": [
    {
     "name": "stdout",
     "output_type": "stream",
     "text": [
      "(1, 12, 2, 3, 4, 65, 6, 8, 9, 0)\n"
     ]
    }
   ],
   "source": [
    "t=(1,12,2,3,4,65,6,8,9,0);\n",
    "print(t);"
   ]
  },
  {
   "cell_type": "code",
   "execution_count": 19,
   "id": "fd5d179a",
   "metadata": {},
   "outputs": [
    {
     "name": "stdout",
     "output_type": "stream",
     "text": [
      "12\n",
      "13\n",
      "14\n",
      "15\n",
      "16\n",
      "17\n",
      "18\n",
      "19\n",
      "20\n",
      "21\n",
      "22\n"
     ]
    }
   ],
   "source": [
    "for i in range (12,23):\n",
    "    print(i);"
   ]
  },
  {
   "cell_type": "code",
   "execution_count": 20,
   "id": "858b090c",
   "metadata": {},
   "outputs": [
    {
     "name": "stdout",
     "output_type": "stream",
     "text": [
      "w\n",
      "e\n",
      "a\n",
      "t\n",
      "h\n",
      "e\n",
      "r\n",
      " \n",
      "c\n",
      "l\n",
      "o\n",
      "u\n",
      "d\n",
      "y\n"
     ]
    }
   ],
   "source": [
    "u=\"weather cloudy\"\n",
    "o=(len(u))\n",
    "for g in range(o):\n",
    "    print(u[g]);"
   ]
  },
  {
   "cell_type": "code",
   "execution_count": 21,
   "id": "721155dc",
   "metadata": {},
   "outputs": [
    {
     "name": "stdout",
     "output_type": "stream",
     "text": [
      "1\n",
      "2\n",
      "3\n",
      "4\n",
      "56\n",
      "7\n",
      "9\n"
     ]
    }
   ],
   "source": [
    "lst=[1,2,3,4,56,7,9];\n",
    "for y in lst:\n",
    "    print(y);\n"
   ]
  },
  {
   "cell_type": "code",
   "execution_count": 22,
   "id": "e00d8b02",
   "metadata": {},
   "outputs": [
    {
     "name": "stdout",
     "output_type": "stream",
     "text": [
      "[43, 44, 45, 46, 47, 48, 49, 50, 51, 52, 53]\n"
     ]
    }
   ],
   "source": [
    "b=[]\n",
    "for t in range(43,54):\n",
    "    b.append(t)\n",
    "print(b);"
   ]
  },
  {
   "cell_type": "code",
   "execution_count": 23,
   "id": "2f40dd7c",
   "metadata": {},
   "outputs": [
    {
     "name": "stdout",
     "output_type": "stream",
     "text": [
      "2 * 1 = 2\n",
      "2 * 2 = 4\n",
      "2 * 3 = 6\n",
      "2 * 4 = 8\n",
      "2 * 5 = 10\n",
      "2 * 6 = 12\n",
      "2 * 7 = 14\n",
      "2 * 8 = 16\n",
      "2 * 9 = 18\n",
      "2 * 10 = 20\n"
     ]
    }
   ],
   "source": [
    "for w in range (1,11):\n",
    "    print(\"2 *\",w,\"=\",2*w);"
   ]
  },
  {
   "cell_type": "code",
   "execution_count": null,
   "id": "b6a7defc",
   "metadata": {},
   "outputs": [],
   "source": []
  }
 ],
 "metadata": {
  "kernelspec": {
   "display_name": "Python 3",
   "language": "python",
   "name": "python3"
  },
  "language_info": {
   "codemirror_mode": {
    "name": "ipython",
    "version": 3
   },
   "file_extension": ".py",
   "mimetype": "text/x-python",
   "name": "python",
   "nbconvert_exporter": "python",
   "pygments_lexer": "ipython3",
   "version": "3.8.8"
  }
 },
 "nbformat": 4,
 "nbformat_minor": 5
}
